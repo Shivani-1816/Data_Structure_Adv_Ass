{
  "nbformat": 4,
  "nbformat_minor": 0,
  "metadata": {
    "colab": {
      "provenance": []
    },
    "kernelspec": {
      "name": "python3",
      "display_name": "Python 3"
    },
    "language_info": {
      "name": "python"
    }
  },
  "cells": [
    {
      "cell_type": "code",
      "execution_count": null,
      "metadata": {
        "id": "OpG2YitkmcMX"
      },
      "outputs": [],
      "source": []
    },
    {
      "cell_type": "markdown",
      "source": [
        "**Data_Structure_Adv_Ass**"
      ],
      "metadata": {
        "id": "5-QBMFykm0ZT"
      }
    },
    {
      "cell_type": "markdown",
      "source": [
        "1. Write a code to reverse a string\n",
        "\n",
        "Here is a simple Python code to reverse a string:"
      ],
      "metadata": {
        "id": "lgs3vOwjm8U3"
      }
    },
    {
      "cell_type": "code",
      "source": [
        "def reverse_string(s):\n",
        "    return s[::-1]\n",
        "\n",
        "# Example usage\n",
        "input_string = \"Hello, World!\"\n",
        "reversed_string = reverse_string(input_string)\n",
        "print(\"Original String:\", input_string)\n",
        "print(\"Reversed String:\", reversed_string)\n"
      ],
      "metadata": {
        "colab": {
          "base_uri": "https://localhost:8080/"
        },
        "id": "FXyUk3BTnMd4",
        "outputId": "3fd87f0f-e588-4ef7-df17-b8d12752c66b"
      },
      "execution_count": 1,
      "outputs": [
        {
          "output_type": "stream",
          "name": "stdout",
          "text": [
            "Original String: Hello, World!\n",
            "Reversed String: !dlroW ,olleH\n"
          ]
        }
      ]
    },
    {
      "cell_type": "markdown",
      "source": [
        "Explanation:\n",
        "s[::-1] uses slicing to reverse the string.\n",
        "s is the input string.\n",
        "[::-1] means to take the string from start to end with a step of -1, effectively reversing it."
      ],
      "metadata": {
        "id": "gwYAd_u8nVLw"
      }
    },
    {
      "cell_type": "markdown",
      "source": [
        "2. Write a code to count the number of vowels in a string.\n",
        "\n",
        "Here is a Python code to count the number of vowels in a string:"
      ],
      "metadata": {
        "id": "LENbpBHfnWP7"
      }
    },
    {
      "cell_type": "code",
      "source": [
        "def count_vowels(s):\n",
        "    vowels = \"aeiouAEIOU\"\n",
        "    count = 0\n",
        "    for char in s:\n",
        "        if char in vowels:\n",
        "            count += 1\n",
        "    return count\n",
        "\n",
        "# Example usage\n",
        "input_string = \"Hello, World!\"\n",
        "vowel_count = count_vowels(input_string)\n",
        "print(\"Input String:\", input_string)\n",
        "print(\"Number of Vowels:\", vowel_count)\n"
      ],
      "metadata": {
        "colab": {
          "base_uri": "https://localhost:8080/"
        },
        "id": "Yv6hHFilnkOb",
        "outputId": "8dd62c22-0817-46b9-f5e7-163d19c4c148"
      },
      "execution_count": 2,
      "outputs": [
        {
          "output_type": "stream",
          "name": "stdout",
          "text": [
            "Input String: Hello, World!\n",
            "Number of Vowels: 3\n"
          ]
        }
      ]
    },
    {
      "cell_type": "markdown",
      "source": [
        "Explanation:\n",
        "Vowels Set: The vowels string contains both uppercase and lowercase vowels.\n",
        "Iteration: The loop iterates through each character in the input string.\n",
        "Condition Check: For each character, it checks if it's in the vowels string.\n",
        "Counter: The counter increments for each vowel found.\n",
        "Output: Finally, it returns the total count of vowels."
      ],
      "metadata": {
        "id": "eOfFNmPcnn8C"
      }
    },
    {
      "cell_type": "markdown",
      "source": [
        "3. Write a code to check if a given string is a palindrome or not.\n",
        "\n",
        "Here’s a Python code to check if a given string is a palindrome:"
      ],
      "metadata": {
        "id": "dJS5eUJrnrfl"
      }
    },
    {
      "cell_type": "code",
      "source": [
        "def is_palindrome(s):\n",
        "    # Normalize the string: remove spaces and convert to lowercase\n",
        "    normalized_str = ''.join(char.lower() for char in s if char.isalnum())\n",
        "    # Check if the string is equal to its reverse\n",
        "    return normalized_str == normalized_str[::-1]\n",
        "\n",
        "# Example usage\n",
        "input_string = \"A man, a plan, a canal, Panama\"\n",
        "if is_palindrome(input_string):\n",
        "    print(f'\"{input_string}\" is a palindrome.')\n",
        "else:\n",
        "    print(f'\"{input_string}\" is not a palindrome.')\n"
      ],
      "metadata": {
        "colab": {
          "base_uri": "https://localhost:8080/"
        },
        "id": "XGKifTfbn3T4",
        "outputId": "86f46317-d709-4def-cbee-16e554f940e7"
      },
      "execution_count": 3,
      "outputs": [
        {
          "output_type": "stream",
          "name": "stdout",
          "text": [
            "\"A man, a plan, a canal, Panama\" is a palindrome.\n"
          ]
        }
      ]
    },
    {
      "cell_type": "markdown",
      "source": [
        "Explanation:\n",
        "Normalization:\n",
        "Use a generator to remove non-alphanumeric characters and convert all characters to lowercase to ensure the check is case-insensitive and ignores punctuation/spaces.\n",
        "\n",
        "Reversing the String:\n",
        "Compare the normalized string with its reversed version using slicing ([::-1]).\n",
        "\n",
        "Palindrome Check:\n",
        "If the normalized string matches its reverse, it's a palindrome.\n",
        "\n",
        "Example Outputs:\n",
        "Input: \"A man, a plan, a canal, Panama\" → Output: Palindrome\n",
        "Input: \"Hello, World!\" → Output: Not a palindrome\n",
        "\n",
        "\n",
        "\n",
        "\n",
        "\n"
      ],
      "metadata": {
        "id": "9ZBxX4M2n9L4"
      }
    },
    {
      "cell_type": "markdown",
      "source": [
        "4. Write a code to check if two given strings are anagrams of each other.\n",
        "\n",
        "Here’s a Python code to check if two given strings are anagrams:"
      ],
      "metadata": {
        "id": "OQx3ePvkoABM"
      }
    },
    {
      "cell_type": "code",
      "source": [
        "def are_anagrams(s1, s2):\n",
        "    # Normalize the strings: remove spaces, convert to lowercase, and sort characters\n",
        "    normalized_s1 = sorted(char.lower() for char in s1 if char.isalnum())\n",
        "    normalized_s2 = sorted(char.lower() for char in s2 if char.isalnum())\n",
        "    # Check if the sorted versions of the strings are equal\n",
        "    return normalized_s1 == normalized_s2\n",
        "\n",
        "# Example usage\n",
        "string1 = \"Listen\"\n",
        "string2 = \"Silent\"\n",
        "\n",
        "if are_anagrams(string1, string2):\n",
        "    print(f'\"{string1}\" and \"{string2}\" are anagrams.')\n",
        "else:\n",
        "    print(f'\"{string1}\" and \"{string2}\" are not anagrams.')\n"
      ],
      "metadata": {
        "colab": {
          "base_uri": "https://localhost:8080/"
        },
        "id": "cDfL_szBooBJ",
        "outputId": "7feb1367-1cd3-46ce-bf76-7f21462d233b"
      },
      "execution_count": 4,
      "outputs": [
        {
          "output_type": "stream",
          "name": "stdout",
          "text": [
            "\"Listen\" and \"Silent\" are anagrams.\n"
          ]
        }
      ]
    },
    {
      "cell_type": "markdown",
      "source": [
        "Explanation:\n",
        "Normalization:\n",
        "Remove non-alphanumeric characters (if any) and convert all characters to lowercase.\n",
        "\n",
        "Sorting:\n",
        "Sort the characters in both strings. Anagrams will have identical sorted character sequences.\n",
        "\n",
        "Comparison:\n",
        "Check if the sorted versions of the strings are equal.\n",
        "\n",
        "Output:\n",
        "If they match, the strings are anagrams; otherwise, they are not.\n",
        "\n",
        "Example Outputs:\n",
        "\n",
        "Input: \"Listen\" and \"Silent\" → Output: Anagrams\n",
        "\n",
        "Input: \"Hello\" and \"World\" → Output: Not anagrams"
      ],
      "metadata": {
        "id": "emYp71GMox3j"
      }
    },
    {
      "cell_type": "markdown",
      "source": [
        "5. Write a code to find all occurrences of a given substring within another string\n",
        "\n",
        "Here’s a Python code to find all occurrences of a given substring within another string:"
      ],
      "metadata": {
        "id": "DRxApO3to7eA"
      }
    },
    {
      "cell_type": "code",
      "source": [
        "def find_substring_occurrences(text, substring):\n",
        "    occurrences = []\n",
        "    start = 0\n",
        "    while True:\n",
        "        # Find the next occurrence of the substring\n",
        "        start = text.find(substring, start)\n",
        "        if start == -1:  # No more occurrences\n",
        "            break\n",
        "        occurrences.append(start)\n",
        "        start += 1  # Move past the current match to avoid infinite loop\n",
        "    return occurrences\n",
        "\n",
        "# Example usage\n",
        "text = \"This is a test string. Testing is fun with test cases.\"\n",
        "substring = \"test\"\n",
        "positions = find_substring_occurrences(text, substring)\n",
        "\n",
        "print(f\"Text: {text}\")\n",
        "print(f\"Substring: '{substring}'\")\n",
        "print(f\"Occurrences at positions: {positions}\")\n"
      ],
      "metadata": {
        "colab": {
          "base_uri": "https://localhost:8080/"
        },
        "id": "ZfpsFYtN0Cxi",
        "outputId": "c0048ea6-8598-44e4-cfe5-37804ad437e6"
      },
      "execution_count": 5,
      "outputs": [
        {
          "output_type": "stream",
          "name": "stdout",
          "text": [
            "Text: This is a test string. Testing is fun with test cases.\n",
            "Substring: 'test'\n",
            "Occurrences at positions: [10, 43]\n"
          ]
        }
      ]
    },
    {
      "cell_type": "markdown",
      "source": [
        "Explanation:\n",
        "text.find(substring, start):\n",
        "Finds the first occurrence of substring in text starting from the start index.\n",
        "Loop:\n",
        "Continuously search for the substring and append the starting index of each occurrence to the occurrences list.\n",
        "Increment start to avoid overlapping matches.\n",
        "Break Condition:\n",
        "When .find() returns -1, there are no more matches, and the loop ends.\n",
        "Output:\n",
        "The positions of all occurrences are returned as a list.\n"
      ],
      "metadata": {
        "id": "m9nXjRR60J82"
      }
    },
    {
      "cell_type": "markdown",
      "source": [
        "6. Write a code to perform basic string compression using the counts of repeated characters\n",
        "\n",
        "Here’s a Python code to perform basic string compression using the counts of repeated characters:"
      ],
      "metadata": {
        "id": "-0DFllIM2uLs"
      }
    },
    {
      "cell_type": "code",
      "source": [
        "def compress_string(s):\n",
        "    compressed = []\n",
        "    count = 1\n",
        "\n",
        "    for i in range(1, len(s)):\n",
        "        if s[i] == s[i - 1]:\n",
        "            count += 1\n",
        "        else:\n",
        "            compressed.append(s[i - 1] + str(count))\n",
        "            count = 1\n",
        "    # Add the last group\n",
        "    if s:\n",
        "        compressed.append(s[-1] + str(count))\n",
        "\n",
        "    # Join the compressed parts into a single string\n",
        "    compressed_string = ''.join(compressed)\n",
        "\n",
        "    # Return the original string if compression doesn't make it shorter\n",
        "    return compressed_string if len(compressed_string) < len(s) else s\n",
        "\n",
        "# Example usage\n",
        "input_string = \"aaabbccccdd\"\n",
        "compressed = compress_string(input_string)\n",
        "print(\"Original String:\", input_string)\n",
        "print(\"Compressed String:\", compressed)\n"
      ],
      "metadata": {
        "colab": {
          "base_uri": "https://localhost:8080/"
        },
        "id": "UA4ytC3g3Lg4",
        "outputId": "9c873517-754e-483f-99d7-2d7aba668b75"
      },
      "execution_count": 7,
      "outputs": [
        {
          "output_type": "stream",
          "name": "stdout",
          "text": [
            "Original String: aaabbccccdd\n",
            "Compressed String: a3b2c4d2\n"
          ]
        }
      ]
    },
    {
      "cell_type": "markdown",
      "source": [
        "Explanation:\n",
        "Iterate Through String:\n",
        "Compare each character with the previous one. If they match, increment the count.\n",
        "\n",
        "If they differ, append the character and its count to the compressed list and reset the count.\n",
        "\n",
        "Add Final Group:\n",
        "After the loop, append the last character and its count to handle the end of the string.\n",
        "\n",
        "Compressed String:\n",
        "Join the elements of the compressed list into a single string.\n",
        "\n",
        "Return Condition:\n",
        "If the compressed string is not shorter than the original string, return the original string.\n"
      ],
      "metadata": {
        "id": "IEFk9hwt3P10"
      }
    },
    {
      "cell_type": "markdown",
      "source": [
        "7. Write a code to determine if a string has all unique characters.\n",
        "\n",
        "Here’s a Python code to check if a string has all unique characters:"
      ],
      "metadata": {
        "id": "i9w6thIq3Zu9"
      }
    },
    {
      "cell_type": "code",
      "source": [
        "def has_unique_characters(s):\n",
        "    # Use a set to store characters we encounter\n",
        "    seen = set()\n",
        "    for char in s:\n",
        "        if char in seen:\n",
        "            return False  # Duplicate found\n",
        "        seen.add(char)\n",
        "    return True  # All characters are unique\n",
        "\n",
        "# Example usage\n",
        "input_string = \"abcdefg\"\n",
        "result = has_unique_characters(input_string)\n",
        "print(f\"The string '{input_string}' has all unique characters: {result}\")\n",
        "\n",
        "input_string = \"hello\"\n",
        "result = has_unique_characters(input_string)\n",
        "print(f\"The string '{input_string}' has all unique characters: {result}\")\n"
      ],
      "metadata": {
        "colab": {
          "base_uri": "https://localhost:8080/"
        },
        "id": "rKyTkIYc4Z3Z",
        "outputId": "73701260-331e-48bd-dd33-86fffbdf34ab"
      },
      "execution_count": 8,
      "outputs": [
        {
          "output_type": "stream",
          "name": "stdout",
          "text": [
            "The string 'abcdefg' has all unique characters: True\n",
            "The string 'hello' has all unique characters: False\n"
          ]
        }
      ]
    },
    {
      "cell_type": "markdown",
      "source": [
        "Explanation:\n",
        "\n",
        "Set Usage:\n",
        "A set is used to store the characters as they are encountered. Sets automatically handle duplicates.\n",
        "\n",
        "Loop Through String:\n",
        "If a character is already in the set, return False because the string does not have all unique characters.\n",
        "\n",
        "Return True:\n",
        "If the loop completes without finding duplicates, all characters are unique."
      ],
      "metadata": {
        "id": "PG6YqBps4c3q"
      }
    },
    {
      "cell_type": "markdown",
      "source": [
        "8. Write a code to convert a given string to uppercase or lowercase.\n",
        "\n",
        "Here’s a Python code to convert a given string to uppercase or lowercase:\n",
        "\n",
        "Code:"
      ],
      "metadata": {
        "id": "9FQpw0vm4jt-"
      }
    },
    {
      "cell_type": "code",
      "source": [
        "def convert_case(s, to_upper=True):\n",
        "    if to_upper:\n",
        "        return s.upper()  # Convert to uppercase\n",
        "    else:\n",
        "        return s.lower()  # Convert to lowercase\n",
        "\n",
        "# Example usage\n",
        "input_string = \"Hello, World!\"\n",
        "uppercase_string = convert_case(input_string, to_upper=True)\n",
        "lowercase_string = convert_case(input_string, to_upper=False)\n",
        "\n",
        "print(\"Original String:\", input_string)\n",
        "print(\"Uppercase:\", uppercase_string)\n",
        "print(\"Lowercase:\", lowercase_string)\n"
      ],
      "metadata": {
        "colab": {
          "base_uri": "https://localhost:8080/"
        },
        "id": "zW0VXrmL4vdM",
        "outputId": "cfef11ef-c5b9-4a1a-b7cd-665a9e9b5201"
      },
      "execution_count": 9,
      "outputs": [
        {
          "output_type": "stream",
          "name": "stdout",
          "text": [
            "Original String: Hello, World!\n",
            "Uppercase: HELLO, WORLD!\n",
            "Lowercase: hello, world!\n"
          ]
        }
      ]
    },
    {
      "cell_type": "markdown",
      "source": [
        "Explanation:\n",
        "\n",
        "upper() Method:\n",
        "Converts all characters in the string to uppercase.\n",
        "\n",
        "lower() Method:\n",
        "Converts all characters in the string to lowercase.\n",
        "\n",
        "Parameter to_upper:\n",
        "\n",
        "Determines whether to convert the string to uppercase (True) or lowercase (False).\n",
        "\n",
        "Output:\n",
        "Prints the original, uppercase, and lowercase versions of the string.\n"
      ],
      "metadata": {
        "id": "QGsSRLD24zG6"
      }
    },
    {
      "cell_type": "markdown",
      "source": [
        "9. Write a code to count the number of words in a string.\n",
        "\n",
        "Here’s a Python code to count the number of words in a string:\n",
        "\n",
        "Code:\n",
        "\n"
      ],
      "metadata": {
        "id": "CpSkW9ft5CS8"
      }
    },
    {
      "cell_type": "code",
      "source": [
        "def count_words(s):\n",
        "    # Split the string into words using whitespace as the delimiter\n",
        "    words = s.split()\n",
        "    return len(words)\n",
        "\n",
        "# Example usage\n",
        "input_string = \"This is an example string with several words.\"\n",
        "word_count = count_words(input_string)\n",
        "\n",
        "print(\"Input String:\", input_string)\n",
        "print(\"Number of Words:\", word_count)\n"
      ],
      "metadata": {
        "colab": {
          "base_uri": "https://localhost:8080/"
        },
        "id": "vquMvT9k5ZKg",
        "outputId": "87ed2d60-3f6a-4ddb-f17a-79db4d0c1bac"
      },
      "execution_count": 10,
      "outputs": [
        {
          "output_type": "stream",
          "name": "stdout",
          "text": [
            "Input String: This is an example string with several words.\n",
            "Number of Words: 8\n"
          ]
        }
      ]
    },
    {
      "cell_type": "markdown",
      "source": [
        "Explanation:\n",
        "\n",
        "split() Method:\n",
        "Splits the string into a list of words using whitespace as the default delimiter.\n",
        "Automatically handles multiple spaces between words.\n",
        "\n",
        "Count Words:\n",
        "Use len() to count the number of elements (words) in the resulting list.\n",
        "\n",
        "Output:\n",
        "Prints the input string and the number of words it contains."
      ],
      "metadata": {
        "id": "waQVa1FX5dXD"
      }
    },
    {
      "cell_type": "markdown",
      "source": [
        "10.  Write a code to concatenate two strings without using the + operator\n",
        "\n",
        "Here’s a Python code to concatenate two strings without using the + operator:\n",
        "\n",
        "Code:"
      ],
      "metadata": {
        "id": "LiCCz9i45oD9"
      }
    },
    {
      "cell_type": "code",
      "source": [
        "def concatenate_strings(s1, s2):\n",
        "    return \"{}{}\".format(s1, s2)\n",
        "\n",
        "# Example usage\n",
        "string1 = \"Hello\"\n",
        "string2 = \"World\"\n",
        "result = concatenate_strings(string1, string2)\n",
        "\n",
        "print(\"String 1:\", string1)\n",
        "print(\"String 2:\", string2)\n",
        "print(\"Concatenated String:\", result)\n"
      ],
      "metadata": {
        "colab": {
          "base_uri": "https://localhost:8080/"
        },
        "id": "IZnANiKt6A6a",
        "outputId": "b9f41604-3269-4c4a-ee58-cf0c61812681"
      },
      "execution_count": 11,
      "outputs": [
        {
          "output_type": "stream",
          "name": "stdout",
          "text": [
            "String 1: Hello\n",
            "String 2: World\n",
            "Concatenated String: HelloWorld\n"
          ]
        }
      ]
    },
    {
      "cell_type": "markdown",
      "source": [
        "Explanation:\n",
        "\n",
        "format() Method:\n",
        "The format() function is used to insert s1 and s2 into the placeholders {}.\n",
        "This effectively concatenates the two strings.\n",
        "\n",
        "Alternative Methods:\n",
        "Another way is to use \"\".join([s1, s2]) for concatenation."
      ],
      "metadata": {
        "id": "MrRhhWqU6KcP"
      }
    },
    {
      "cell_type": "markdown",
      "source": [
        "11. Write a code to remove all occurrences of a specific element from a list\n",
        "\n",
        "Here’s a Python code to remove all occurrences of a specific element from a list:\n",
        "\n",
        "Code:"
      ],
      "metadata": {
        "id": "mYXdxt7A6OlR"
      }
    },
    {
      "cell_type": "code",
      "source": [
        "def remove_occurrences(lst, element):\n",
        "    # Use list comprehension to create a new list excluding the element\n",
        "    return [item for item in lst if item != element]\n",
        "\n",
        "# Example usage\n",
        "my_list = [1, 2, 3, 4, 2, 5, 2]\n",
        "element_to_remove = 2\n",
        "result = remove_occurrences(my_list, element_to_remove)\n",
        "\n",
        "print(\"Original List:\", my_list)\n",
        "print(\"List after removing\", element_to_remove, \":\", result)\n"
      ],
      "metadata": {
        "colab": {
          "base_uri": "https://localhost:8080/"
        },
        "id": "H1ANVqLE6at6",
        "outputId": "60ab30f6-d7ca-4ef8-b176-2db8ca443d40"
      },
      "execution_count": 12,
      "outputs": [
        {
          "output_type": "stream",
          "name": "stdout",
          "text": [
            "Original List: [1, 2, 3, 4, 2, 5, 2]\n",
            "List after removing 2 : [1, 3, 4, 5]\n"
          ]
        }
      ]
    },
    {
      "cell_type": "markdown",
      "source": [
        "Explanation:\n",
        "\n",
        "List Comprehension:\n",
        "The code uses list comprehension to iterate over the original list and includes only those elements that are not equal to the specified element.\n",
        "\n",
        "Return a New List:\n",
        "The function returns a new list with the desired elements."
      ],
      "metadata": {
        "id": "asLzXnd26dy1"
      }
    },
    {
      "cell_type": "markdown",
      "source": [
        "12. Implement a code to find the second largest number in a given list of integers.\n",
        "\n",
        "Here’s a Python code to find the second largest number in a given list of integers:\n",
        "\n",
        "Code:\n",
        "\n"
      ],
      "metadata": {
        "id": "Hkvacg8O6jj2"
      }
    },
    {
      "cell_type": "code",
      "source": [
        "def find_second_largest(lst):\n",
        "    # Remove duplicates by converting the list to a set\n",
        "    unique_lst = list(set(lst))\n",
        "\n",
        "    # If there are fewer than 2 unique elements, return None\n",
        "    if len(unique_lst) < 2:\n",
        "        return None\n",
        "\n",
        "    # Sort the unique list and return the second last element\n",
        "    unique_lst.sort()\n",
        "    return unique_lst[-2]\n",
        "\n",
        "# Example usage\n",
        "my_list = [10, 20, 4, 45, 99, 99]\n",
        "second_largest = find_second_largest(my_list)\n",
        "\n",
        "print(\"Original List:\", my_list)\n",
        "print(\"Second Largest Number:\", second_largest)\n"
      ],
      "metadata": {
        "colab": {
          "base_uri": "https://localhost:8080/"
        },
        "id": "HW6bltzH60SJ",
        "outputId": "d56de0c4-dd66-4709-93bf-46149f707c36"
      },
      "execution_count": 13,
      "outputs": [
        {
          "output_type": "stream",
          "name": "stdout",
          "text": [
            "Original List: [10, 20, 4, 45, 99, 99]\n",
            "Second Largest Number: 45\n"
          ]
        }
      ]
    },
    {
      "cell_type": "markdown",
      "source": [
        "Explanation:\n",
        "\n",
        "Remove Duplicates:\n",
        "Convert the list to a set to remove duplicates, and then convert it back to a list.\n",
        "\n",
        "Check for Sufficient Elements:\n",
        "If there are fewer than two unique elements, return None because the second largest doesn't exist.\n",
        "\n",
        "Sort the List:\n",
        "Sort the list of unique elements and return the second-to-last element ([-2]), which is the second largest."
      ],
      "metadata": {
        "id": "iEoAaKtX63fl"
      }
    },
    {
      "cell_type": "markdown",
      "source": [
        "13. Create a code to count the occurrences of each element in a list and return a dictionary with elements as\n",
        "keys and their counts as values.\n",
        "\n",
        "Here’s a Python code to count the occurrences of each element in a list and return a dictionary with elements as keys and their counts as values:\n",
        "\n",
        "Code:"
      ],
      "metadata": {
        "id": "g9MvpcPg6-TQ"
      }
    },
    {
      "cell_type": "code",
      "source": [
        "def count_occurrences(lst):\n",
        "    # Create an empty dictionary to store counts\n",
        "    count_dict = {}\n",
        "\n",
        "    # Iterate over the list and count occurrences\n",
        "    for item in lst:\n",
        "        if item in count_dict:\n",
        "            count_dict[item] += 1  # Increment the count if item is already in the dictionary\n",
        "        else:\n",
        "            count_dict[item] = 1  # Initialize count for the new item\n",
        "\n",
        "    return count_dict\n",
        "\n",
        "# Example usage\n",
        "my_list = [1, 2, 2, 3, 3, 3, 4, 5, 5, 5, 5]\n",
        "occurrences = count_occurrences(my_list)\n",
        "\n",
        "print(\"Original List:\", my_list)\n",
        "print(\"Occurrences Dictionary:\", occurrences)\n"
      ],
      "metadata": {
        "colab": {
          "base_uri": "https://localhost:8080/"
        },
        "id": "diF4MAzO7IBM",
        "outputId": "0e950247-921d-4430-de05-4232df99ea46"
      },
      "execution_count": 14,
      "outputs": [
        {
          "output_type": "stream",
          "name": "stdout",
          "text": [
            "Original List: [1, 2, 2, 3, 3, 3, 4, 5, 5, 5, 5]\n",
            "Occurrences Dictionary: {1: 1, 2: 2, 3: 3, 4: 1, 5: 4}\n"
          ]
        }
      ]
    },
    {
      "cell_type": "markdown",
      "source": [
        "Explanation:\n",
        "\n",
        "Empty Dictionary:\n",
        "Create an empty dictionary count_dict to store the counts.\n",
        "\n",
        "Iteration:\n",
        "Loop through each element in the list. For each element:\n",
        "If it is already in the dictionary, increment its count.\n",
        "If it’s not in the dictionary, add it with a count of 1.\n",
        "\n",
        "Return Dictionary:\n",
        "The function returns the dictionary where the keys are the elements of the list and the values are their respective counts."
      ],
      "metadata": {
        "id": "rAUkamBU7MHe"
      }
    },
    {
      "cell_type": "markdown",
      "source": [
        "14. Write a code to reverse a list in-place without using any built-in reverse functions\n",
        "\n",
        "\n",
        "Here’s a Python code to reverse a list in-place without using any built-in reverse functions:\n",
        "\n",
        "Code:"
      ],
      "metadata": {
        "id": "AsU8X5Rx7ULW"
      }
    },
    {
      "cell_type": "code",
      "source": [
        "def reverse_list(lst):\n",
        "    start = 0\n",
        "    end = len(lst) - 1\n",
        "\n",
        "    # Swap the elements from both ends of the list\n",
        "    while start < end:\n",
        "        # Swap the elements at start and end\n",
        "        lst[start], lst[end] = lst[end], lst[start]\n",
        "        start += 1\n",
        "        end -= 1\n",
        "\n",
        "# Example usage\n",
        "my_list = [1, 2, 3, 4, 5]\n",
        "reverse_list(my_list)\n",
        "\n",
        "print(\"Reversed List:\", my_list)\n"
      ],
      "metadata": {
        "colab": {
          "base_uri": "https://localhost:8080/"
        },
        "id": "ixIm-bjT7gSl",
        "outputId": "87c81529-f5f0-4202-9058-f47fd3dcf921"
      },
      "execution_count": 15,
      "outputs": [
        {
          "output_type": "stream",
          "name": "stdout",
          "text": [
            "Reversed List: [5, 4, 3, 2, 1]\n"
          ]
        }
      ]
    },
    {
      "cell_type": "markdown",
      "source": [
        "Explanation:\n",
        "\n",
        "Start and End Pointers:\n",
        "We use two pointers: start at the beginning (index 0) and end at the last index (len(lst) - 1).\n",
        "\n",
        "Swapping:\n",
        "In a while loop, swap the elements at the start and end positions.\n",
        "\n",
        "Move the Pointers:\n",
        "After each swap, increment start and decrement end to move towards the center of the list."
      ],
      "metadata": {
        "id": "kCuyCqNJ7jjL"
      }
    },
    {
      "cell_type": "markdown",
      "source": [
        "15. Implement a code to find and remove duplicates from a list while preserving the original order of\n",
        "elements\n",
        "\n",
        "Here’s a Python code to find and remove duplicates from a list while preserving the original order of elements:\n",
        "\n",
        "Code:"
      ],
      "metadata": {
        "id": "YxenTQag7p06"
      }
    },
    {
      "cell_type": "code",
      "source": [
        "def remove_duplicates(lst):\n",
        "    seen = set()  # Set to keep track of already seen elements\n",
        "    result = []   # List to store the result without duplicates\n",
        "\n",
        "    for item in lst:\n",
        "        if item not in seen:\n",
        "            result.append(item)  # Add to result if not seen\n",
        "            seen.add(item)       # Mark the item as seen\n",
        "\n",
        "    return result\n",
        "\n",
        "# Example usage\n",
        "my_list = [1, 2, 2, 3, 4, 3, 5, 1]\n",
        "unique_list = remove_duplicates(my_list)\n",
        "\n",
        "print(\"Original List:\", my_list)\n",
        "print(\"List after removing duplicates:\", unique_list)\n"
      ],
      "metadata": {
        "colab": {
          "base_uri": "https://localhost:8080/"
        },
        "id": "XhpWvYb9DAc-",
        "outputId": "df50128e-4760-4c31-fe3d-e456a81c4455"
      },
      "execution_count": 16,
      "outputs": [
        {
          "output_type": "stream",
          "name": "stdout",
          "text": [
            "Original List: [1, 2, 2, 3, 4, 3, 5, 1]\n",
            "List after removing duplicates: [1, 2, 3, 4, 5]\n"
          ]
        }
      ]
    },
    {
      "cell_type": "markdown",
      "source": [
        "Explanation:\n",
        "seen Set:\n",
        "\n",
        "A set seen is used to track elements that have already been added to the result list. Sets are efficient for lookups because they allow O(1) average time complexity for checking if an item is present.\n",
        "result List:\n",
        "\n",
        "A list result is used to store the elements without duplicates while maintaining their original order.\n",
        "Loop Through the List:\n",
        "\n",
        "For each element in the list, if it hasn't been seen before (i.e., not in the seen set), it is appended to result, and it is added to the seen set.\n",
        "Return the Result:\n",
        "\n",
        "The final list with duplicates removed is returned"
      ],
      "metadata": {
        "id": "HjrZ1-mnDLy9"
      }
    },
    {
      "cell_type": "markdown",
      "source": [
        "16. Create a code to check if a given list is sorted (either in ascending or descending order) or not\n",
        "\n",
        "\n",
        "Here’s a Python code to check if a given list is sorted (either in ascending or descending order) or not:\n",
        "\n",
        "Code:"
      ],
      "metadata": {
        "id": "_ZBr4LabDOIC"
      }
    },
    {
      "cell_type": "code",
      "source": [
        "def is_sorted(lst):\n",
        "    # Check if the list is sorted in ascending order\n",
        "    if all(lst[i] <= lst[i+1] for i in range(len(lst) - 1)):\n",
        "        return \"Ascending\"\n",
        "    # Check if the list is sorted in descending order\n",
        "    elif all(lst[i] >= lst[i+1] for i in range(len(lst) - 1)):\n",
        "        return \"Descending\"\n",
        "    # If neither, the list is not sorted\n",
        "    else:\n",
        "        return \"Not Sorted\"\n",
        "\n",
        "# Example usage\n",
        "my_list1 = [1, 2, 3, 4, 5]\n",
        "my_list2 = [5, 4, 3, 2, 1]\n",
        "my_list3 = [1, 3, 2, 4, 5]\n",
        "\n",
        "print(f\"List 1: {my_list1} - {is_sorted(my_list1)}\")\n",
        "print(f\"List 2: {my_list2} - {is_sorted(my_list2)}\")\n",
        "print(f\"List 3: {my_list3} - {is_sorted(my_list3)}\")\n"
      ],
      "metadata": {
        "colab": {
          "base_uri": "https://localhost:8080/"
        },
        "id": "Y9g9p7AtDXrE",
        "outputId": "e595c1f8-cfb0-4d07-fbc3-616f0e8f5f5d"
      },
      "execution_count": 17,
      "outputs": [
        {
          "output_type": "stream",
          "name": "stdout",
          "text": [
            "List 1: [1, 2, 3, 4, 5] - Ascending\n",
            "List 2: [5, 4, 3, 2, 1] - Descending\n",
            "List 3: [1, 3, 2, 4, 5] - Not Sorted\n"
          ]
        }
      ]
    },
    {
      "cell_type": "markdown",
      "source": [
        "Explanation:\n",
        "Ascending Check:\n",
        "\n",
        "The first if condition checks if each element is less than or equal to the next element, meaning the list is sorted in ascending order. The all() function ensures this condition holds for all pairs of adjacent elements in the list.\n",
        "Descending Check:\n",
        "\n",
        "The elif condition checks if each element is greater than or equal to the next element, meaning the list is sorted in descending order.\n",
        "Not Sorted:\n",
        "\n",
        "If neither of the above conditions is true, the list is not sorted, and the function returns \"Not Sorted\""
      ],
      "metadata": {
        "id": "3YB6zD__DjTJ"
      }
    },
    {
      "cell_type": "markdown",
      "source": [
        "17. Write a code to merge two sorted lists into a single sorted list\n",
        "\n",
        "Here’s a Python code to merge two sorted lists into a single sorted list:\n",
        "\n",
        "Code:"
      ],
      "metadata": {
        "id": "-lc-oNjODkVB"
      }
    },
    {
      "cell_type": "code",
      "source": [
        "def merge_sorted_lists(list1, list2):\n",
        "    merged_list = []\n",
        "    i, j = 0, 0\n",
        "\n",
        "    # Traverse both lists and append the smaller element to merged_list\n",
        "    while i < len(list1) and j < len(list2):\n",
        "        if list1[i] < list2[j]:\n",
        "            merged_list.append(list1[i])\n",
        "            i += 1\n",
        "        else:\n",
        "            merged_list.append(list2[j])\n",
        "            j += 1\n",
        "\n",
        "    # If there are remaining elements in list1\n",
        "    while i < len(list1):\n",
        "        merged_list.append(list1[i])\n",
        "        i += 1\n",
        "\n",
        "    # If there are remaining elements in list2\n",
        "    while j < len(list2):\n",
        "        merged_list.append(list2[j])\n",
        "        j += 1\n",
        "\n",
        "    return merged_list\n",
        "\n",
        "# Example usage\n",
        "list1 = [1, 3, 5, 7]\n",
        "list2 = [2, 4, 6, 8]\n",
        "merged = merge_sorted_lists(list1, list2)\n",
        "\n",
        "print(\"Merged Sorted List:\", merged)\n"
      ],
      "metadata": {
        "colab": {
          "base_uri": "https://localhost:8080/"
        },
        "id": "R3MCfUm-DtmX",
        "outputId": "53393834-973b-4ad3-bb8b-730e474bfaf2"
      },
      "execution_count": 18,
      "outputs": [
        {
          "output_type": "stream",
          "name": "stdout",
          "text": [
            "Merged Sorted List: [1, 2, 3, 4, 5, 6, 7, 8]\n"
          ]
        }
      ]
    },
    {
      "cell_type": "markdown",
      "source": [
        "\n",
        " Example usage\n",
        "\n",
        "list1 = [1, 3, 5, 7]\n",
        "list2 = [2, 4, 6, 8]\n",
        "merged = merge_sorted_lists(list1, list2)\n",
        "\n",
        "print(\"Merged Sorted List:\", merged)\n",
        "\n",
        "Explanation:\n",
        "Initialize Pointers:\n",
        "Use two pointers i and j to traverse list1 and list2, respectively.\n",
        "\n",
        "Merge Process:\n",
        "While both lists still have elements, compare the elements at i and j, and append the smaller element to the merged_list.\n",
        "\n",
        "Append Remaining Elements:\n",
        "After one of the lists is exhausted, append the remaining elements from the other list (if any).\n",
        "\n",
        "Return the Merged List:\n",
        "The function returns the merged_list which contains the elements from both sorted lists, merged into a single sorted list."
      ],
      "metadata": {
        "id": "Fr2j78BvDy-L"
      }
    },
    {
      "cell_type": "markdown",
      "source": [
        "18. Implement a code to find the intersection of two given lists\n",
        "\n",
        "Here’s a Python code to find the intersection of two given lists:\n",
        "\n",
        "Code:"
      ],
      "metadata": {
        "id": "FcG9287sEBU1"
      }
    },
    {
      "cell_type": "code",
      "source": [
        "def intersection_of_lists(list1, list2):\n",
        "    # Convert both lists to sets to remove duplicates and perform intersection\n",
        "    set1 = set(list1)\n",
        "    set2 = set(list2)\n",
        "\n",
        "    # Find the intersection using the '&' operator\n",
        "    intersection = set1 & set2\n",
        "\n",
        "    # Convert the result back to a list\n",
        "    return list(intersection)\n",
        "\n",
        "# Example usage\n",
        "list1 = [1, 2, 3, 4, 5]\n",
        "list2 = [3, 4, 5, 6, 7]\n",
        "intersection = intersection_of_lists(list1, list2)\n",
        "\n",
        "print(\"Intersection of the lists:\", intersection)\n"
      ],
      "metadata": {
        "colab": {
          "base_uri": "https://localhost:8080/"
        },
        "id": "kThCPSR5EJJS",
        "outputId": "89433dd7-5095-48f1-d25b-5c7d78ed9cf6"
      },
      "execution_count": 19,
      "outputs": [
        {
          "output_type": "stream",
          "name": "stdout",
          "text": [
            "Intersection of the lists: [3, 4, 5]\n"
          ]
        }
      ]
    },
    {
      "cell_type": "markdown",
      "source": [
        "Explanation:\n",
        "Set Conversion:\n",
        "\n",
        "Convert both lists to sets (set1 and set2). This helps to eliminate duplicates and allows efficient set operations.\n",
        "Intersection:\n",
        "\n",
        "Use the intersection operator (&) to find common elements between the two sets.\n",
        "Return Result:\n",
        "\n",
        "Convert the resulting intersection set back to a list to maintain the output format."
      ],
      "metadata": {
        "id": "mIe7UPWmELdl"
      }
    },
    {
      "cell_type": "markdown",
      "source": [
        "19. Create a code to find the union of two lists without duplicates.\n",
        "\n",
        "\n",
        "Here’s a Python code to find the union of two lists without duplicates:\n",
        "\n",
        "Code:"
      ],
      "metadata": {
        "id": "ygpbTbV_EO-h"
      }
    },
    {
      "cell_type": "code",
      "source": [
        "def union_of_lists(list1, list2):\n",
        "    # Convert both lists to sets to remove duplicates and perform union\n",
        "    set1 = set(list1)\n",
        "    set2 = set(list2)\n",
        "\n",
        "    # Find the union using the '|' operator\n",
        "    union = set1 | set2\n",
        "\n",
        "    # Convert the result back to a list\n",
        "    return list(union)\n",
        "\n",
        "# Example usage\n",
        "list1 = [1, 2, 3, 4, 5]\n",
        "list2 = [4, 5, 6, 7, 8]\n",
        "union = union_of_lists(list1, list2)\n",
        "\n",
        "print(\"Union of the lists:\", union)\n"
      ],
      "metadata": {
        "colab": {
          "base_uri": "https://localhost:8080/"
        },
        "id": "RMple6rNEWJR",
        "outputId": "96462bda-02c5-4159-a2b1-cb8926aec0a8"
      },
      "execution_count": 20,
      "outputs": [
        {
          "output_type": "stream",
          "name": "stdout",
          "text": [
            "Union of the lists: [1, 2, 3, 4, 5, 6, 7, 8]\n"
          ]
        }
      ]
    },
    {
      "cell_type": "markdown",
      "source": [
        "Explanation:\n",
        "Set Conversion:\n",
        "\n",
        "Convert both lists to sets (set1 and set2). This automatically removes duplicates from each list.\n",
        "Union:\n",
        "\n",
        "Use the union operator (|) to combine the sets, which removes any duplicates between the two sets.\n",
        "Return Result:\n",
        "\n",
        "Convert the resulting union set back to a list and return it.\n"
      ],
      "metadata": {
        "id": "XhpNV7cSEYdW"
      }
    },
    {
      "cell_type": "markdown",
      "source": [
        "20. Write a code to shuffle a given list randomly without using any built-in shuffle functions\n",
        "\n",
        "\n",
        "Here’s a Python code to shuffle a given list randomly without using any built-in shuffle functions:\n",
        "\n",
        "Code:"
      ],
      "metadata": {
        "id": "GiSHI8q9EdcU"
      }
    },
    {
      "cell_type": "code",
      "source": [
        "import random\n",
        "\n",
        "def shuffle_list(lst):\n",
        "    # Loop through the list in reverse order\n",
        "    for i in range(len(lst) - 1, 0, -1):\n",
        "        # Pick a random index from 0 to i\n",
        "        j = random.randint(0, i)\n",
        "        # Swap the elements at i and j\n",
        "        lst[i], lst[j] = lst[j], lst[i]\n",
        "    return lst\n",
        "\n",
        "# Example usage\n",
        "my_list = [1, 2, 3, 4, 5]\n",
        "shuffled_list = shuffle_list(my_list)\n",
        "\n",
        "print(\"Shuffled List:\", shuffled_list)\n"
      ],
      "metadata": {
        "colab": {
          "base_uri": "https://localhost:8080/"
        },
        "id": "RCOA-K2uEkPj",
        "outputId": "74af71d4-85bd-47cc-8c9f-a23240b5d94f"
      },
      "execution_count": 21,
      "outputs": [
        {
          "output_type": "stream",
          "name": "stdout",
          "text": [
            "Shuffled List: [5, 3, 2, 4, 1]\n"
          ]
        }
      ]
    },
    {
      "cell_type": "markdown",
      "source": [
        "Explanation:\n",
        "Looping Through the List:\n",
        "\n",
        "The for loop iterates through the list from the last element to the second element. This helps to randomly shuffle the elements in place.\n",
        "Random Index:\n",
        "\n",
        "For each element at index i, a random index j between 0 and i is selected using random.randint(0, i).\n",
        "Swap Elements:\n",
        "\n",
        "The elements at indices i and j are swapped using the tuple assignment syntax lst[i], lst[j] = lst[j], lst[i].\n",
        "Return Shuffled List:\n",
        "\n",
        "The function returns the shuffled list."
      ],
      "metadata": {
        "id": "WkJHy_PdEqp2"
      }
    },
    {
      "cell_type": "markdown",
      "source": [
        "21. Write a code that takes two tuples as input and returns a new tuple containing elements that are\n",
        "common to both input tuples.\n",
        "\n",
        "Here’s a Python code that takes two tuples as input and returns a new tuple containing elements that are common to both input tuples:\n",
        "\n",
        "Code:"
      ],
      "metadata": {
        "id": "fRKCCea_Eu6r"
      }
    },
    {
      "cell_type": "code",
      "source": [
        "def common_elements(tuple1, tuple2):\n",
        "    # Convert tuples to sets to find the intersection\n",
        "    set1 = set(tuple1)\n",
        "    set2 = set(tuple2)\n",
        "\n",
        "    # Find the intersection of the two sets\n",
        "    common = set1 & set2\n",
        "\n",
        "    # Return the intersection as a tuple\n",
        "    return tuple(common)\n",
        "\n",
        "# Example usage\n",
        "tuple1 = (1, 2, 3, 4, 5)\n",
        "tuple2 = (3, 4, 5, 6, 7)\n",
        "common_tuple = common_elements(tuple1, tuple2)\n",
        "\n",
        "print(\"Common elements:\", common_tuple)\n"
      ],
      "metadata": {
        "colab": {
          "base_uri": "https://localhost:8080/"
        },
        "id": "OP19koN5E5Bp",
        "outputId": "b83c8062-4f2f-4e78-ff95-1bcf86a24a9d"
      },
      "execution_count": 22,
      "outputs": [
        {
          "output_type": "stream",
          "name": "stdout",
          "text": [
            "Common elements: (3, 4, 5)\n"
          ]
        }
      ]
    },
    {
      "cell_type": "markdown",
      "source": [
        "Explanation:\n",
        "Convert Tuples to Sets:\n",
        "\n",
        "The two tuples are converted to sets (set1 and set2). This allows efficient set operations like intersection, which automatically removes duplicates.\n",
        "Intersection:\n",
        "\n",
        "The intersection of the two sets is found using the & operator, which gives the common elements between the two sets.\n",
        "Return Result:\n",
        "\n",
        "The common elements are returned as a tuple by converting the resulting set back into a tuple.\n"
      ],
      "metadata": {
        "id": "oSofZ8YrE75I"
      }
    },
    {
      "cell_type": "markdown",
      "source": [
        "22. Create a code that prompts the user to enter two sets of integers separated by commas. Then, print the\n",
        "intersection of these two sets\n",
        "\n",
        "Here’s a Python code that prompts the user to enter two sets of integers separated by commas, and then prints the intersection of these two sets:\n",
        "\n",
        "Code:"
      ],
      "metadata": {
        "id": "4t5LCNtSFAzA"
      }
    },
    {
      "cell_type": "code",
      "source": [
        "def get_set_input(prompt):\n",
        "    # Prompt the user to enter a set of integers separated by commas\n",
        "    user_input = input(prompt)\n",
        "\n",
        "    # Convert the input string to a list of integers and then to a set\n",
        "    user_set = set(map(int, user_input.split(',')))\n",
        "\n",
        "    return user_set\n",
        "\n",
        "def main():\n",
        "    # Get the two sets from the user\n",
        "    set1 = get_set_input(\"Enter the first set of integers (separated by commas): \")\n",
        "    set2 = get_set_input(\"Enter the second set of integers (separated by commas): \")\n",
        "\n",
        "    # Find the intersection of the two sets\n",
        "    intersection = set1 & set2\n",
        "\n",
        "    # Print the intersection\n",
        "    print(\"Intersection of the two sets:\", intersection)\n",
        "\n",
        "# Example usage\n",
        "main()\n"
      ],
      "metadata": {
        "id": "ZGl-BpkRFpx-"
      },
      "execution_count": null,
      "outputs": []
    },
    {
      "cell_type": "markdown",
      "source": [
        "Explanation:\n",
        "get_set_input Function:\n",
        "\n",
        "This function prompts the user to enter a string of integers separated by commas. The split(',') method splits the string into a list of string elements.\n",
        "The map(int, ...) function converts each element in the list to an integer, and set() converts the list into a set to remove duplicates.\n",
        "Intersection:\n",
        "\n",
        "The intersection of the two sets is found using the & operator.\n",
        "Output:\n",
        "\n",
        "The intersection of the sets is printed."
      ],
      "metadata": {
        "id": "NKtjXDDJFU-y"
      }
    },
    {
      "cell_type": "markdown",
      "source": [
        "23.  Write a code to concatenate two tuples. The function should take two tuples as input and return a new\n",
        "tuple containing elements from both input tuples.\n",
        "\n",
        "\n",
        "Here’s a Python code that takes two tuples as input and returns a new tuple containing elements from both input tuples:\n",
        "\n",
        "Code:"
      ],
      "metadata": {
        "id": "AqWaErlSFuJq"
      }
    },
    {
      "cell_type": "code",
      "source": [
        "def concatenate_tuples(tuple1, tuple2):\n",
        "    # Concatenate the two tuples using the '+' operator\n",
        "    return tuple1 + tuple2\n",
        "\n",
        "# Example usage\n",
        "tuple1 = (1, 2, 3)\n",
        "tuple2 = (4, 5, 6)\n",
        "result_tuple = concatenate_tuples(tuple1, tuple2)\n",
        "\n",
        "print(\"Concatenated Tuple:\", result_tuple)\n"
      ],
      "metadata": {
        "id": "mILyiqsxF3zm"
      },
      "execution_count": null,
      "outputs": []
    },
    {
      "cell_type": "markdown",
      "source": [
        "Explanation:\n",
        "\n",
        "Concatenation:\n",
        "The + operator is used to concatenate the two tuples. This creates a new tuple containing all the elements from tuple1 followed by all the elements from tuple2.\n",
        "Return:\n",
        "The concatenated tuple is returned by the function."
      ],
      "metadata": {
        "id": "9hfujQlnF9DQ"
      }
    },
    {
      "cell_type": "markdown",
      "source": [
        "24.  Develop a code that prompts the user to input two sets of strings. Then, print the elements that are\n",
        "present in the first set but not in the second set.\n",
        "\n",
        "\n",
        "Here’s a Python code that prompts the user to input two sets of strings and then prints the elements that are present in the first set but not in the second set:\n",
        "\n",
        "Code:"
      ],
      "metadata": {
        "id": "j8Az0v3NGOdT"
      }
    },
    {
      "cell_type": "code",
      "source": [
        "def get_set_input(prompt):\n",
        "    # Prompt the user to enter a set of strings separated by commas\n",
        "    user_input = input(prompt)\n",
        "\n",
        "    # Convert the input string to a set of strings by splitting and stripping spaces\n",
        "    user_set = set(user_input.split(','))\n",
        "\n",
        "    return user_set\n",
        "\n",
        "def main():\n",
        "    # Get the two sets from the user\n",
        "    set1 = get_set_input(\"Enter the first set of strings (separated by commas): \")\n",
        "    set2 = get_set_input(\"Enter the second set of strings (separated by commas): \")\n",
        "\n",
        "    # Find the elements in set1 but not in set2\n",
        "    difference = set1 - set2\n",
        "\n",
        "    # Print the difference\n",
        "    print(\"Elements in the first set but not in the second set:\", difference)\n",
        "\n",
        "# Example usage\n",
        "main()\n"
      ],
      "metadata": {
        "id": "j2iXcsmbGb3I"
      },
      "execution_count": null,
      "outputs": []
    },
    {
      "cell_type": "markdown",
      "source": [
        "\n",
        "\n",
        " Example usage\n",
        "\n",
        "main()\n",
        "Explanation:\n",
        "get_set_input Function:\n",
        "\n",
        "This function prompts the user to enter a string of items separated by commas. It then splits the string using split(','), which creates a list, and converts it to a set. This removes any duplicate entries and ensures the elements are unique.\n",
        "Difference:\n",
        "\n",
        "The difference of the two sets is calculated using the - operator. This gives the elements that are present in set1 but not in set2.\n",
        "Output:\n",
        "\n",
        "The elements that are only in the first set are printed."
      ],
      "metadata": {
        "id": "jG3L3tOAGfn2"
      }
    },
    {
      "cell_type": "markdown",
      "source": [
        "25. Create a code that takes a tuple and two integers as input. The function should return a new tuple\n",
        "containing elements from the original tuple within the specified range of indices.\n",
        "\n",
        "\n",
        "Here’s a Python code that takes a tuple and two integers (representing a range of indices) as input and returns a new tuple containing elements from the original tuple within the specified range of indices:\n",
        "\n",
        "Code:"
      ],
      "metadata": {
        "id": "fDxZH7O4GqnD"
      }
    },
    {
      "cell_type": "code",
      "source": [
        "def slice_tuple(tpl, start, end):\n",
        "    # Return a sliced tuple from 'start' to 'end' (end is exclusive)\n",
        "    return tpl[start:end]\n",
        "\n",
        "# Example usage\n",
        "input_tuple = (10, 20, 30, 40, 50, 60, 70)\n",
        "start_index = int(input(\"Enter the start index: \"))\n",
        "end_index = int(input(\"Enter the end index: \"))\n",
        "\n",
        "result_tuple = slice_tuple(input_tuple, start_index, end_index)\n",
        "\n",
        "print(\"Sliced Tuple:\", result_tuple)\n"
      ],
      "metadata": {
        "id": "gWdrxTWZG5IL"
      },
      "execution_count": null,
      "outputs": []
    },
    {
      "cell_type": "markdown",
      "source": [
        "Explanation:\n",
        "Function slice_tuple:\n",
        "The function takes three parameters: a tuple tpl and two integers, start and end, representing the start and end indices for slicing.\n",
        "It slices the tuple from start to end using Python's tuple slicing syntax tpl[start:end]. Note that the end index is exclusive, meaning the element at index end is not included in the result.\n",
        "\n",
        "Input:\n",
        "The user is prompted to enter the start and end indices.\n",
        "\n",
        "Return:\n",
        "The function returns a new tuple that contains the elements from the original tuple within the specified range.\n",
        "\n",
        "Example Usage:\n",
        "\n",
        "For the input:\n",
        "\n",
        "input_tuple = (10, 20, 30, 40, 50, 60, 70)\n",
        "\n",
        "start_index = 2\n",
        "\n",
        "end_index = 5"
      ],
      "metadata": {
        "id": "OPKdC4W4G70G"
      }
    },
    {
      "cell_type": "markdown",
      "source": [
        "26. Write a code that prompts the user to input two sets of characters. Then, print the union of these two sets\n",
        "\n",
        "Here’s a Python code that prompts the user to input two sets of characters and then prints the union of these two sets:\n",
        "\n",
        "Code:"
      ],
      "metadata": {
        "id": "xNu-f4BuHJMt"
      }
    },
    {
      "cell_type": "code",
      "source": [
        "def get_set_input(prompt):\n",
        "    # Prompt the user to enter a set of characters separated by commas\n",
        "    user_input = input(prompt)\n",
        "\n",
        "    # Convert the input string to a set of characters by splitting and stripping spaces\n",
        "    user_set = set(user_input.replace(\" \", \"\").split(','))\n",
        "\n",
        "    return user_set\n",
        "\n",
        "def main():\n",
        "    # Get the two sets from the user\n",
        "    set1 = get_set_input(\"Enter the first set of characters (separated by commas): \")\n",
        "    set2 = get_set_input(\"Enter the second set of characters (separated by commas): \")\n",
        "\n",
        "    # Find the union of the two sets\n",
        "    union = set1 | set2\n",
        "\n",
        "    # Print the union\n",
        "    print(\"Union of the two sets:\", union)\n",
        "\n",
        "# Example usage\n",
        "main()\n"
      ],
      "metadata": {
        "id": "7c0qSaTFHRz6"
      },
      "execution_count": null,
      "outputs": []
    },
    {
      "cell_type": "markdown",
      "source": [
        "Explanation:\n",
        "\n",
        "get_set_input Function:\n",
        "\n",
        "This function prompts the user to input a set of characters separated by commas. The replace(\" \", \"\") method is used to remove spaces, and then split(',') splits the input into individual characters. Finally, the set() function converts this list into a set, which automatically removes duplicates.\n",
        "\n",
        "Union:\n",
        "\n",
        "The union of the two sets is computed using the | operator. This gives a new set containing all unique elements from both sets.\n",
        "\n",
        "Output:\n",
        "\n",
        "The union of the sets is printed."
      ],
      "metadata": {
        "id": "c9Of-UDeHXyc"
      }
    },
    {
      "cell_type": "markdown",
      "source": [
        "27. Develop a code that takes a tuple of integers as input. The function should return the maximum and\n",
        "minimum values from the tuple using tuple unpacking\n",
        "\n",
        "Here’s a Python code that takes a tuple of integers as input and returns the maximum and minimum values from the tuple using tuple unpacking:\n",
        "\n",
        "Code:"
      ],
      "metadata": {
        "id": "PcczuO-eHeYb"
      }
    },
    {
      "cell_type": "code",
      "source": [
        "def find_max_min(tpl):\n",
        "    # Unpack the tuple to get the maximum and minimum values\n",
        "    max_val, min_val = max(tpl), min(tpl)\n",
        "    return max_val, min_val\n",
        "\n",
        "# Example usage\n",
        "input_tuple = tuple(map(int, input(\"Enter a tuple of integers (separated by commas): \").split(',')))\n",
        "\n",
        "max_value, min_value = find_max_min(input_tuple)\n",
        "\n",
        "print(\"Maximum Value:\", max_value)\n",
        "print(\"Minimum Value:\", min_value)\n"
      ],
      "metadata": {
        "id": "UVQa_3v6Hl8t"
      },
      "execution_count": null,
      "outputs": []
    },
    {
      "cell_type": "markdown",
      "source": [
        "Explanation:\n",
        "\n",
        "Tuple Unpacking:\n",
        "\n",
        "The function find_max_min finds the maximum and minimum values of the tuple using Python's built-in max() and min() functions.\n",
        "The maximum and minimum values are returned as a tuple, and they are unpacked into the variables max_val and min_val.\n",
        "\n",
        "Input:\n",
        "\n",
        "The user is prompted to enter a tuple of integers as a comma-separated string. The map(int, input().split(',')) is used to convert the input string into a tuple of integers.\n",
        "\n",
        "Output:\n",
        "\n",
        "The maximum and minimum values from the tuple are printed."
      ],
      "metadata": {
        "id": "4knTHpuDHnyd"
      }
    },
    {
      "cell_type": "markdown",
      "source": [
        "28. Create a code that defines two sets of integers. Then, print the union, intersection, and difference of these\n",
        "two sets\n",
        "\n",
        "Here’s a Python code that defines two sets of integers and then prints the union, intersection, and difference of these two sets:\n",
        "\n",
        "Code:"
      ],
      "metadata": {
        "id": "vCJsxVBIHvMF"
      }
    },
    {
      "cell_type": "code",
      "source": [
        "def main():\n",
        "    # Define two sets of integers\n",
        "    set1 = {1, 2, 3, 4, 5}\n",
        "    set2 = {4, 5, 6, 7, 8}\n",
        "\n",
        "    # Union of the two sets (all elements from both sets)\n",
        "    union_set = set1 | set2\n",
        "    print(\"Union of the sets:\", union_set)\n",
        "\n",
        "    # Intersection of the two sets (common elements in both sets)\n",
        "    intersection_set = set1 & set2\n",
        "    print(\"Intersection of the sets:\", intersection_set)\n",
        "\n",
        "    # Difference of the two sets (elements in set1 but not in set2)\n",
        "    difference_set = set1 - set2\n",
        "    print(\"Difference of the sets (set1 - set2):\", difference_set)\n",
        "\n",
        "# Example usage\n",
        "main()\n"
      ],
      "metadata": {
        "id": "UQ-eez2PH4eY"
      },
      "execution_count": null,
      "outputs": []
    },
    {
      "cell_type": "markdown",
      "source": [
        "Explanation:\n",
        "\n",
        "Union:\n",
        "\n",
        "The union of the two sets is found using the | operator. This combines all elements from both sets, removing duplicates.\n",
        "Intersection:\n",
        "\n",
        "The intersection of the two sets is found using the & operator. This gives the common elements that are present in both sets.\n",
        "Difference:\n",
        "\n",
        "The difference of the two sets is found using the - operator. This gives the elements that are in set1 but not in set2."
      ],
      "metadata": {
        "id": "m3Skb8LqH6l3"
      }
    },
    {
      "cell_type": "markdown",
      "source": [
        "29.  Write a code that takes a tuple and an element as input. The function should return the count of\n",
        "occurrences of the given element in the tuple.\n",
        "\n",
        "Here’s a Python code that takes a tuple and an element as input and returns the count of occurrences of the given element in the tuple:\n",
        "\n",
        "Code:"
      ],
      "metadata": {
        "id": "Co8DQPgNH_t7"
      }
    },
    {
      "cell_type": "code",
      "source": [
        "def count_occurrences(tpl, element):\n",
        "    # Use the count() method to find the occurrences of the element in the tuple\n",
        "    return tpl.count(element)\n",
        "\n",
        "# Example usage\n",
        "input_tuple = tuple(map(int, input(\"Enter a tuple of integers (separated by commas): \").split(',')))\n",
        "element = int(input(\"Enter the element to count occurrences of: \"))\n",
        "\n",
        "count = count_occurrences(input_tuple, element)\n",
        "\n",
        "print(f\"The element {element} appears {count} time(s) in the tuple.\")\n"
      ],
      "metadata": {
        "id": "jh87bmFRIJFz"
      },
      "execution_count": null,
      "outputs": []
    },
    {
      "cell_type": "markdown",
      "source": [
        "Explanation:\n",
        "count_occurrences Function:\n",
        "\n",
        "The function count_occurrences takes a tuple (tpl) and an element (element) as input. It uses Python’s built-in count() method, which returns the number of times the specified element appears in the tuple.\n",
        "\n",
        "Input:\n",
        "\n",
        "The user is prompted to enter a tuple of integers as a comma-separated string, which is then converted to a tuple using map(int, input().split(',')).\n",
        "The user is also prompted to enter the element whose occurrences should be counted.\n",
        "\n",
        "Output:\n",
        "\n",
        "The count of occurrences of the specified element in the tuple is printed.\n",
        "\n"
      ],
      "metadata": {
        "id": "E5Yl9qoDIL-l"
      }
    },
    {
      "cell_type": "markdown",
      "source": [
        "30. & Develop a code that prompts the user to input two sets of strings. Then, print the symmetric difference of\n",
        "these two sets.\n",
        "\n",
        "Here’s a Python code that prompts the user to input two sets of strings and then prints the symmetric difference of these two sets:\n",
        "\n",
        "Code:"
      ],
      "metadata": {
        "id": "olIGMJXZIavo"
      }
    },
    {
      "cell_type": "code",
      "source": [
        "def get_set_input(prompt):\n",
        "    # Prompt the user to enter a set of strings separated by commas\n",
        "    user_input = input(prompt)\n",
        "\n",
        "    # Convert the input string to a set of strings by splitting and stripping spaces\n",
        "    user_set = set(user_input.split(','))\n",
        "\n",
        "    return user_set\n",
        "\n",
        "def main():\n",
        "    # Get the two sets from the user\n",
        "    set1 = get_set_input(\"Enter the first set of strings (separated by commas): \")\n",
        "    set2 = get_set_input(\"Enter the second set of strings (separated by commas): \")\n",
        "\n",
        "    # Find the symmetric difference of the two sets\n",
        "    symmetric_difference = set1 ^ set2\n",
        "\n",
        "    # Print the symmetric difference\n",
        "    print(\"Symmetric Difference of the two sets:\", symmetric_difference)\n",
        "\n",
        "# Example usage\n",
        "main()\n"
      ],
      "metadata": {
        "id": "u3Cam9FbIho0"
      },
      "execution_count": null,
      "outputs": []
    },
    {
      "cell_type": "markdown",
      "source": [
        "Explanation:\n",
        "\n",
        "get_set_input Function:\n",
        "\n",
        "This function prompts the user to input a string of strings separated by commas. The split(',') method splits the string into individual elements, and set() converts this list into a set, which automatically removes duplicates.\n",
        "\n",
        "Symmetric Difference:\n",
        "\n",
        "The symmetric difference of two sets is calculated using the ^ operator. This returns a new set containing all elements that are in either of the two sets but not in both.\n",
        "\n",
        "Output:\n",
        "\n",
        "The symmetric difference is printed."
      ],
      "metadata": {
        "id": "GorDw05wIjsT"
      }
    },
    {
      "cell_type": "markdown",
      "source": [
        "31. Write a code that takes a list of words as input and returns a dictionary where the keys are unique words\n",
        "and the values are the frequencies of those words in the input list.\n",
        "\n",
        "Here’s a Python code that takes a list of words as input and returns a dictionary where the keys are the unique words and the values are the frequencies of those words in the input list:\n",
        "\n",
        "Code:"
      ],
      "metadata": {
        "id": "mH_hk_-dIqzk"
      }
    },
    {
      "cell_type": "code",
      "source": [
        "def word_frequencies(word_list):\n",
        "    # Create an empty dictionary to store word frequencies\n",
        "    freq_dict = {}\n",
        "\n",
        "    # Loop through each word in the list\n",
        "    for word in word_list:\n",
        "        # If the word is already in the dictionary, increment its count\n",
        "        if word in freq_dict:\n",
        "            freq_dict[word] += 1\n",
        "        else:\n",
        "            # Otherwise, add the word to the dictionary with count 1\n",
        "            freq_dict[word] = 1\n",
        "\n",
        "    return freq_dict\n",
        "\n",
        "# Example usage\n",
        "input_string = input(\"Enter a list of words (separated by spaces): \")\n",
        "word_list = input_string.split()  # Convert the input string into a list of words\n",
        "\n",
        "# Get the word frequency dictionary\n",
        "result_dict = word_frequencies(word_list)\n",
        "\n",
        "# Print the result\n",
        "print(\"Word frequencies:\", result_dict)\n"
      ],
      "metadata": {
        "id": "Vv3Btq9eIyJI"
      },
      "execution_count": null,
      "outputs": []
    },
    {
      "cell_type": "markdown",
      "source": [
        "Explanation:\n",
        "\n",
        "word_frequencies Function:\n",
        "\n",
        "This function takes a list of words (word_list) and processes each word to count its occurrences. A dictionary (freq_dict) is used to store the words as keys and their frequencies as values.\n",
        "If a word is already in the dictionary, its frequency is incremented by 1. If it’s not present, the word is added to the dictionary with a frequency of 1.\n",
        "\n",
        "Input:\n",
        "\n",
        "The user is prompted to enter a list of words separated by spaces. The split() method is used to convert the input string into a list of words.\n",
        "\n",
        "Output:\n",
        "\n",
        "The resulting dictionary with word frequencies is printed."
      ],
      "metadata": {
        "id": "RpOY4NLkI0MD"
      }
    },
    {
      "cell_type": "markdown",
      "source": [
        "32.  Write a code that takes two dictionaries as input and merges them into a single dictionary. If there are\n",
        "common keys, the values should be added together.\n",
        "\n",
        "\n",
        "Here’s a Python code that takes two dictionaries as input and merges them into a single dictionary. If there are common keys, the values will be added together:\n",
        "\n",
        "Code:"
      ],
      "metadata": {
        "id": "bvnUGVTtI6U4"
      }
    },
    {
      "cell_type": "code",
      "source": [
        "def merge_dictionaries(dict1, dict2):\n",
        "    # Create a new dictionary to hold the merged result\n",
        "    merged_dict = dict1.copy()  # Start with a copy of the first dictionary\n",
        "\n",
        "    # Loop through the second dictionary and add the values\n",
        "    for key, value in dict2.items():\n",
        "        if key in merged_dict:\n",
        "            # If the key already exists, add the value\n",
        "            merged_dict[key] += value\n",
        "        else:\n",
        "            # Otherwise, add the key-value pair to the merged dictionary\n",
        "            merged_dict[key] = value\n",
        "\n",
        "    return merged_dict\n",
        "\n",
        "# Example usage\n",
        "dict1 = eval(input(\"Enter the first dictionary: \"))  # Use eval to take a dictionary as input\n",
        "dict2 = eval(input(\"Enter the second dictionary: \"))\n",
        "\n",
        "# Merge the dictionaries\n",
        "result_dict = merge_dictionaries(dict1, dict2)\n",
        "\n",
        "# Print the merged dictionary\n",
        "print(\"Merged Dictionary:\", result_dict)\n"
      ],
      "metadata": {
        "id": "2oG-jqCSJDGx"
      },
      "execution_count": null,
      "outputs": []
    },
    {
      "cell_type": "markdown",
      "source": [
        "Explanation:\n",
        "\n",
        "merge_dictionaries Function:\n",
        "\n",
        "The function starts by copying dict1 into merged_dict to avoid modifying the original dictionary.\n",
        "It then loops through each key-value pair in dict2. If a key already exists in merged_dict, it adds the value from dict2 to the existing value in merged_dict. Otherwise, it adds the new key-value pair to merged_dict.\n",
        "\n",
        "Input:\n",
        "\n",
        "The user is prompted to enter two dictionaries as input. Using eval() allows the user to input dictionaries in standard Python dictionary format (e.g., {'a': 1, 'b': 2}).\n",
        "\n",
        "Output:\n",
        "\n",
        "The merged dictionary is printed. If there are any common keys, their values are summed.\n"
      ],
      "metadata": {
        "id": "4ZLO1WKhJFOZ"
      }
    },
    {
      "cell_type": "markdown",
      "source": [
        "33. Write a code to access a value in a nested dictionary. The function should take the dictionary and a list of\n",
        "keys as input, and return the corresponding value. If any of the keys do not exist in the dictionary, the\n",
        "function should return None.\n",
        "\n",
        "Here’s a Python code that accesses a value in a nested dictionary. The function takes the dictionary and a list of keys as input, and returns the corresponding value. If any of the keys do not exist, it returns None:\n",
        "\n",
        "Code:"
      ],
      "metadata": {
        "id": "VOYon7JAJN6-"
      }
    },
    {
      "cell_type": "code",
      "source": [
        "def access_nested_dict(d, keys):\n",
        "    # Loop through the list of keys\n",
        "    for key in keys:\n",
        "        # Check if the key exists in the current level of the dictionary\n",
        "        if isinstance(d, dict) and key in d:\n",
        "            # Move to the next level in the dictionary\n",
        "            d = d[key]\n",
        "        else:\n",
        "            # If the key does not exist, return None\n",
        "            return None\n",
        "    return d  # Return the final value if all keys are found\n",
        "\n",
        "# Example usage\n",
        "nested_dict = {\n",
        "    'a': {\n",
        "        'b': {\n",
        "            'c': 10\n",
        "        },\n",
        "        'd': 20\n",
        "    },\n",
        "    'e': 30\n",
        "}\n",
        "\n",
        "# Example list of keys\n",
        "keys = ['a', 'b', 'c']\n",
        "\n",
        "# Access the value using the list of keys\n",
        "result = access_nested_dict(nested_dict, keys)\n",
        "\n",
        "print(\"The corresponding value is:\", result)\n"
      ],
      "metadata": {
        "id": "hpqcmgj7JYW-"
      },
      "execution_count": null,
      "outputs": []
    },
    {
      "cell_type": "markdown",
      "source": [
        "Explanation:\n",
        "\n",
        "access_nested_dict Function:\n",
        "\n",
        "This function takes a nested dictionary (d) and a list of keys (keys).\n",
        "It iterates through the list of keys and checks if the key exists at each level of the dictionary. If the key exists, it updates the reference to the next level of the dictionary.\n",
        "If at any point a key does not exist, the function returns None.\n",
        "If all keys are found, it returns the final value at the deepest level.\n",
        "\n",
        "Input:\n",
        "\n",
        "The function is given a nested dictionary and a list of keys to search for.\n",
        "\n",
        "Output:\n",
        "\n",
        "The function returns the value if all keys exist in the dictionary, or None if any key is missing."
      ],
      "metadata": {
        "id": "tXS31PYqJalX"
      }
    },
    {
      "cell_type": "markdown",
      "source": [
        "34. Write a code that takes a dictionary as input and returns a sorted version of it based on the values. You\n",
        "can choose whether to sort in ascending or descending order.\n",
        "\n",
        "Here’s a Python code that takes a dictionary as input and returns a sorted version of it based on the values. You can choose whether to sort in ascending or descending order:\n",
        "\n",
        "Code:"
      ],
      "metadata": {
        "id": "m2wWDolNJhTt"
      }
    },
    {
      "cell_type": "code",
      "source": [
        "def sort_dict_by_values(d, descending=False):\n",
        "    # Sort the dictionary by values, either ascending or descending\n",
        "    sorted_dict = dict(sorted(d.items(), key=lambda item: item[1], reverse=descending))\n",
        "    return sorted_dict\n",
        "\n",
        "# Example usage\n",
        "input_dict = eval(input(\"Enter a dictionary: \"))  # Use eval to allow dictionary input\n",
        "order = input(\"Enter 'asc' for ascending or 'desc' for descending order: \").strip().lower()\n",
        "\n",
        "# Check the order input and set descending flag accordingly\n",
        "descending = order == 'desc'\n",
        "\n",
        "# Get the sorted dictionary\n",
        "sorted_dict = sort_dict_by_values(input_dict, descending)\n",
        "\n",
        "# Print the sorted dictionary\n",
        "print(\"Sorted Dictionary:\", sorted_dict)\n"
      ],
      "metadata": {
        "id": "mwi1-FcjJpAX"
      },
      "execution_count": null,
      "outputs": []
    },
    {
      "cell_type": "markdown",
      "source": [
        "Explanation:\n",
        "\n",
        "sort_dict_by_values Function:\n",
        "\n",
        "The function takes a dictionary (d) and a descending flag as input. The sorted() function is used to sort the dictionary items.\n",
        "The key=lambda item: item[1] sorts based on the dictionary values (the second element in each key-value pair).\n",
        "If descending=True, the dictionary is sorted in descending order; otherwise, it’s sorted in ascending order.\n",
        "\n",
        "Input:\n",
        "\n",
        "The user is prompted to enter a dictionary in the format {key1: value1, key2: value2, ...} using eval().\n",
        "The user is also asked to specify whether they want to sort in ascending (asc) or descending (desc) order.\n",
        "\n",
        "Output:\n",
        "\n",
        "The sorted dictionary is printed, based on the user’s choice of sorting order."
      ],
      "metadata": {
        "id": "vCL_eNnGJrbQ"
      }
    },
    {
      "cell_type": "markdown",
      "source": [
        "35. & Write a code that inverts a dictionary, swapping keys and values. Ensure that the inverted dictionary\n",
        "correctly handles cases where multiple keys have the same value by storing the keys as a list in the\n",
        "inverted dictionary.\n",
        "\n",
        "Here’s a Python code that inverts a dictionary, swapping keys and values. If multiple keys have the same value, the keys are stored as a list in the inverted dictionary:\n",
        "\n",
        "Code:"
      ],
      "metadata": {
        "id": "9uTZ-xFuJxZR"
      }
    },
    {
      "cell_type": "code",
      "source": [
        "def invert_dict(d):\n",
        "    inverted_dict = {}\n",
        "\n",
        "    # Loop through the original dictionary\n",
        "    for key, value in d.items():\n",
        "        # If the value is already a key in the inverted dictionary\n",
        "        if value in inverted_dict:\n",
        "            # Append the current key to the list of keys for this value\n",
        "            inverted_dict[value].append(key)\n",
        "        else:\n",
        "            # Otherwise, create a new key-value pair in the inverted dictionary\n",
        "            inverted_dict[value] = [key]\n",
        "\n",
        "    return inverted_dict\n",
        "\n",
        "# Example usage\n",
        "input_dict = eval(input(\"Enter a dictionary: \"))  # Use eval to take a dictionary input\n",
        "\n",
        "# Get the inverted dictionary\n",
        "inverted_dict = invert_dict(input_dict)\n",
        "\n",
        "# Print the inverted dictionary\n",
        "print(\"Inverted Dictionary:\", inverted_dict)\n"
      ],
      "metadata": {
        "id": "1DotCtZDJ5S_"
      },
      "execution_count": null,
      "outputs": []
    },
    {
      "cell_type": "markdown",
      "source": [
        "Explanation:\n",
        "\n",
        "invert_dict Function:\n",
        "\n",
        "This function takes a dictionary (d) and creates a new dictionary (inverted_dict), where the keys and values are swapped.\n",
        "If multiple keys in the original dictionary have the same value, the function stores these keys as a list in the inverted dictionary. The check is performed using if value in inverted_dict to see if the value has already been used as a key.\n",
        "\n",
        "Input:\n",
        "\n",
        "The user is prompted to enter a dictionary in the format {key1: value1, key2: value2, ...} using eval().\n",
        "\n",
        "Output:\n",
        "\n",
        "The inverted dictionary is printed."
      ],
      "metadata": {
        "id": "EUgT5IMZJ66I"
      }
    },
    {
      "cell_type": "markdown",
      "source": [],
      "metadata": {
        "id": "eAXqaDiSKD3Z"
      }
    }
  ]
}